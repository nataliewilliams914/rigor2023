{
  "nbformat": 4,
  "nbformat_minor": 0,
  "metadata": {
    "colab": {
      "provenance": []
    },
    "kernelspec": {
      "name": "python3",
      "display_name": "Python 3"
    },
    "language_info": {
      "name": "python"
    }
  },
  "cells": [
    {
      "cell_type": "markdown",
      "source": [
        "10/27/2023"
      ],
      "metadata": {
        "id": "s8YlxHyYxdr6"
      }
    },
    {
      "cell_type": "code",
      "source": [
        "5*2"
      ],
      "metadata": {
        "colab": {
          "base_uri": "https://localhost:8080/"
        },
        "id": "vy2SJG4Oxe_B",
        "outputId": "917d5b26-3d90-4f5b-be68-b1a794cdd9c6"
      },
      "execution_count": null,
      "outputs": [
        {
          "output_type": "execute_result",
          "data": {
            "text/plain": [
              "10"
            ]
          },
          "metadata": {},
          "execution_count": 7
        }
      ]
    },
    {
      "cell_type": "markdown",
      "source": [
        "Using a repository like GitHub can assist in achieving computational reproducibility because it allows you to organize and store data as well as perform analysis. This online and downloadable repository helps with issues of reproducibility because it is an efficient, organizational tool. GitHub is a universal system that can be used with any command line, furthering its reproducible abilities.\n",
        "\n",
        "GitHub also provides a way to track changes so that the raw form and intermediate forms of data are all preserved. By tracking changes, reproducibility can be improved because the integrity of the data itself is uncompromised. Also, manipulations of the data and analyses performed are recorded which further improves computational reproducibility. The key to any type of reproducibility is clear, detailed instructions – whether that be a wet lab procedure or a coding strategy. With repositories such as GitHub, these key instructions are recorded and readily accessible to repeat and confirm reproduced results.\n",
        "\n",
        "Finally, GitHub’s ability to publish, post, and share data makes it an extremely useful tool in sharing data within and between biology labs. Your GitHub repositories can be either public or private, allowing you to work on your data first before posting and sharing it with collaborators. This assists in computational reproducibility because it provides easily shareable, accessible data complete with annotations, analyses, and raw data. All in all, GitHub is a powerful tool for computation reproducibility because of the way it improves data organization and collaboration.\n"
      ],
      "metadata": {
        "id": "aFCpgSThyGrt"
      }
    }
  ]
}